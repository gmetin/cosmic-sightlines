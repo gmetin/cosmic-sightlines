{
 "cells": [
  {
   "cell_type": "code",
   "execution_count": 1,
   "metadata": {},
   "outputs": [],
   "source": [
    "import numpy as np\n",
    "from sight_line_constructor import Sightline\n",
    "import read_cubes\n",
    "from scipy import ndimage\n",
    "import matplotlib.pyplot as plt\n",
    "from matplotlib.colors import LogNorm\n",
    "import matplotlib as mpl\n",
    "from astropy.io import ascii\n",
    "\n",
    "from astropy.cosmology import FlatLambdaCDM\n",
    "from astropy import units as u\n",
    "\n",
    "from multiprocessing import Pool\n",
    "\n",
    "\n",
    "from scipy import interpolate\n",
    "from colossus.cosmology import cosmology\n",
    "\n",
    "%matplotlib widget\n",
    "\n",
    "\n",
    "#mpl.rc('text', usetex=True)\n",
    "\n",
    "plt.rcParams.update({\n",
    "    \"text.usetex\": True,\n",
    "    \"font.family\": \"serif\",\n",
    "    \"font.serif\": [\"Palatino\"],\n",
    "})\n",
    "\n",
    "mpl.rcParams['xtick.major.size'] = 5\n",
    "mpl.rcParams['xtick.major.width'] = 2\n",
    "mpl.rcParams['xtick.minor.size'] = 5\n",
    "mpl.rcParams['xtick.minor.width'] = 2\n",
    "mpl.rcParams['ytick.major.size'] = 5\n",
    "mpl.rcParams['ytick.major.width'] = 2\n",
    "mpl.rcParams['ytick.minor.size'] = 5\n",
    "mpl.rcParams['ytick.minor.width'] = 2\n",
    "mpl.rcParams['axes.linewidth'] = 2"
   ]
  },
  {
   "cell_type": "code",
   "execution_count": 2,
   "metadata": {},
   "outputs": [],
   "source": [
    "path = \"/var/lib/libvirt/images/nbody/baorsd/run101/density_field/\"\n",
    "#cube = read_cubes.read(path+\"S020_CIC1024_conf.bin\")"
   ]
  },
  {
   "cell_type": "code",
   "execution_count": 3,
   "metadata": {},
   "outputs": [],
   "source": [
    "files = ascii.read('/home/mata/cosmic-sightlines/simlist.txt',names=[\"filename\", 'redshift'])\n",
    "files = files[::-1] #lowest redshift first\n",
    "redshifts = files['redshift'].data"
   ]
  },
  {
   "cell_type": "code",
   "execution_count": 4,
   "metadata": {},
   "outputs": [],
   "source": [
    "cosmo = FlatLambdaCDM(H0=100, Om0=0.315)\n",
    "reds = np.linspace(0.,10.,10000)\n",
    "dist = cosmo.comoving_distance(reds)\n",
    "z_dist = interpolate.interp1d(reds, dist)\n",
    "dists = z_dist(redshifts)\n",
    "\n",
    "params = {'flat': True, 'H0': 100, 'Om0': 0.315, 'Ob0': 0.049, 'sigma8': 0.81, 'ns': 0.95}\n",
    "cosmo_c = cosmology.setCosmology('myCosmo', params)\n",
    "growth = cosmo_c.growthFactor(reds)\n",
    "growth_z = interpolate.interp1d(reds, growth)\n",
    "\n",
    "growths = growth_z(redshifts)"
   ]
  },
  {
   "cell_type": "code",
   "execution_count": 5,
   "metadata": {},
   "outputs": [],
   "source": [
    "n_files = len(files)\n",
    "nc = 1024\n",
    "L = 2048\n",
    "res = L/nc\n",
    "\n",
    "#Function to read in files\n",
    "l_arr = []\n",
    "for i in range(len(files)):\n",
    "    tmp = read_cubes.read(path+str(files[i]['filename']))\n",
    "    l_arr.append(tmp)\n",
    "\n"
   ]
  },
  {
   "cell_type": "code",
   "execution_count": 6,
   "metadata": {},
   "outputs": [],
   "source": [
    "#center of single box is [-L/2,-L/2,-L/2], \n",
    "start_point = np.array([0,95,0]) #Mpc/h\n",
    "end_point = np.array([2500,95,0]) #Mpc/h\n",
    "#define origin in center of the box\n",
    "origin = np.array([-L/2,-L/2,-L/2]) #Mpc/h origin of coordinate system\n"
   ]
  },
  {
   "cell_type": "code",
   "execution_count": 7,
   "metadata": {},
   "outputs": [],
   "source": [
    "s1 = Sightline(start_point,end_point,origin,periodic=True)"
   ]
  },
  {
   "cell_type": "code",
   "execution_count": 8,
   "metadata": {},
   "outputs": [
    {
     "data": {
      "text/plain": [
       "array([   0.        ,  141.80987524,  283.19353311,  424.39312659,\n",
       "        565.62997617,  707.12042403,  849.05714337,  991.63674372,\n",
       "       1135.04359213, 1279.45875188, 1425.06900518, 1572.0561105 ,\n",
       "       1720.60666364, 1870.91593272, 2023.18108248, 2177.61231632,\n",
       "       2334.43809439, 2493.88159244, 2656.19952512, 2821.67991357,\n",
       "       2990.59785349])"
      ]
     },
     "execution_count": 8,
     "metadata": {},
     "output_type": "execute_result"
    }
   ],
   "source": [
    "dists"
   ]
  },
  {
   "cell_type": "code",
   "execution_count": 9,
   "metadata": {},
   "outputs": [],
   "source": [
    "\n",
    "def los_lightcone(dists,sightline,res) :\n",
    "    los_arr = []\n",
    "    range_arr =[]\n",
    "    los_lightcone = []\n",
    "    ind_arr = [0]\n",
    "    for i in l_arr:\n",
    "        los_arr.append(sightline.calc_los(res,i))\n",
    "    los_arr = np.asarray(los_arr)\n",
    "    for i in enumerate(dists[1:]):\n",
    "        a = np.where(sightline.dist<+i[1])[0].max()\n",
    "        ind_arr.append(a)    \n",
    "    a_arr = np.asarray(ind_arr)\n",
    "\n",
    "    for i in enumerate(a_arr[:-1]):\n",
    "        range_arr.append(np.arange(a_arr[i[0]],a_arr[i[0]+1]))\n",
    "        los_lightcone.append(los_arr[i[0]][range_arr[i[0]]])\n",
    "    los_tot = np.concatenate(los_lightcone).ravel()\n",
    "    los_tot=np.append(los_tot,los_arr[-1][a_arr[-1]])#hack last entry\n",
    "    return los_tot\n"
   ]
  },
  {
   "cell_type": "code",
   "execution_count": 10,
   "metadata": {},
   "outputs": [],
   "source": [
    "s1_lightcone = los_lightcone(dists,s1,res)"
   ]
  },
  {
   "cell_type": "code",
   "execution_count": 11,
   "metadata": {},
   "outputs": [
    {
     "name": "stderr",
     "output_type": "stream",
     "text": [
      "findfont: Font family ['serif'] not found. Falling back to DejaVu Sans.\n"
     ]
    },
    {
     "data": {
      "application/vnd.jupyter.widget-view+json": {
       "model_id": "7d60dd022bfa4458b3d4df5b1ce668da",
       "version_major": 2,
       "version_minor": 0
      },
      "text/html": [
       "\n",
       "            <div style=\"display: inline-block;\">\n",
       "                <div class=\"jupyter-widgets widget-label\" style=\"text-align: center;\">\n",
       "                    Figure\n",
       "                </div>\n",
       "                <img src='data:image/png;base64,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' width=1000.0/>\n",
       "            </div>\n",
       "        "
      ],
      "text/plain": [
       "Canvas(toolbar=Toolbar(toolitems=[('Home', 'Reset original view', 'home', 'home'), ('Back', 'Back to previous …"
      ]
     },
     "metadata": {},
     "output_type": "display_data"
    }
   ],
   "source": [
    "fig, ax = plt.subplots(nrows=2,figsize=(10,4),sharex = True)\n",
    "plt.subplots_adjust(left=None, bottom=None, right=None, top=None, wspace=None, hspace=None)\n",
    "s = np.log(l_arr[0][:,:,512]+1)\n",
    "ax[0].imshow(s.T,vmin=-4,vmax=4,origin=\"lower\",aspect=\"equal\", interpolation=\"bilinear\", extent=[-1024,1024,-1024,1024],cmap=\"rainbow\")\n",
    "ax[0].plot([start_point[0], end_point[0]], [start_point[1],  end_point[1]], 'ro--',lw=2,alpha=0.9)\n",
    "ax[0].set_xlim(0,3000)\n",
    "ax[0].set_ylim(80,120)\n",
    "\n",
    "ax[1].plot(s1.dist,s1.los+1,alpha=0.7,lw=2, label=\"z=\"+str(files[\"redshift\"][0]))\n",
    "ax[1].plot(s1.dist,s1_lightcone+1,alpha=0.7,lw=2,  label=\"Lightcone\")\n",
    "\n",
    "\n",
    "#ax[1].set_xlim(0,s1.r)\n",
    "#ax[1].set_ylim(0,15)\n",
    "\n",
    "ax[1].set_xlabel(\"Line of Sight Distance\",fontsize=20)\n",
    "ax[1].set_ylabel(\"Density\",fontsize=20)\n",
    "ax[1].legend()\n",
    "fig.tight_layout(pad=-1.0)"
   ]
  },
  {
   "cell_type": "code",
   "execution_count": 12,
   "metadata": {},
   "outputs": [],
   "source": [
    "#create many random end positions and draw sightlines\n",
    "#reject if they go beyond |r| = dists[-1]\n",
    "num = 10000\n",
    "end_points = np.random.uniform(-dists[-1],dists[-1], (num,3) )\n",
    "iin = np.where(np.linalg.norm((end_points - start_point),axis=1  ) <dists[-1])[0]\n",
    "end_points  = end_points[iin]\n",
    "\n",
    "\n",
    "s_arr = []\n",
    "for i in end_points:\n",
    "    s_arr.append(Sightline(start_point,i,origin,periodic=True ))"
   ]
  },
  {
   "cell_type": "code",
   "execution_count": 13,
   "metadata": {},
   "outputs": [],
   "source": [
    "def worker(s):\n",
    "    res_los = los_lightcone(dists,s,res)\n",
    "    return res_los\n",
    "\n"
   ]
  },
  {
   "cell_type": "code",
   "execution_count": 14,
   "metadata": {},
   "outputs": [
    {
     "data": {
      "text/plain": [
       "'\\ndef work_func(end_points):\\n    s = Sightline(start_point,end_points,origin,periodic=True )\\n    res_los = los_lightcone(dists,s,res)\\n    return (res_los)\\n    \\nfor i in end_points:\\n    work_func(i)\\n'"
      ]
     },
     "execution_count": 14,
     "metadata": {},
     "output_type": "execute_result"
    }
   ],
   "source": [
    "\n",
    "#serial version\n",
    "\"\"\"\n",
    "def work_func(end_points):\n",
    "    s = Sightline(start_point,end_points,origin,periodic=True )\n",
    "    res_los = los_lightcone(dists,s,res)\n",
    "    return (res_los)\n",
    "    \n",
    "for i in end_points:\n",
    "    work_func(i)\n",
    "\"\"\"\n"
   ]
  },
  {
   "cell_type": "code",
   "execution_count": 15,
   "metadata": {},
   "outputs": [],
   "source": [
    "#test parallel\n",
    "p = Pool(20)\n",
    "res_los =    p.map(worker,s_arr)\n",
    "\n"
   ]
  },
  {
   "cell_type": "code",
   "execution_count": 16,
   "metadata": {},
   "outputs": [],
   "source": [
    "mean = []\n",
    "var = []\n",
    "for i in res_los:\n",
    "    mean.append(i.mean())\n",
    "    var.append(i.var()) "
   ]
  },
  {
   "cell_type": "code",
   "execution_count": 17,
   "metadata": {},
   "outputs": [
    {
     "data": {
      "application/vnd.jupyter.widget-view+json": {
       "model_id": "5e43d5a8638f40d58eefff0fe5c42163",
       "version_major": 2,
       "version_minor": 0
      },
      "text/html": [
       "\n",
       "            <div style=\"display: inline-block;\">\n",
       "                <div class=\"jupyter-widgets widget-label\" style=\"text-align: center;\">\n",
       "                    Figure\n",
       "                </div>\n",
       "                <img src='data:image/png;base64,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' width=640.0/>\n",
       "            </div>\n",
       "        "
      ],
      "text/plain": [
       "Canvas(toolbar=Toolbar(toolitems=[('Home', 'Reset original view', 'home', 'home'), ('Back', 'Back to previous …"
      ]
     },
     "metadata": {},
     "output_type": "display_data"
    }
   ],
   "source": [
    "plt.figure()\n",
    "plt.hist(mean,bins=np.linspace(-1,1,100))\n",
    "plt.show()"
   ]
  },
  {
   "cell_type": "code",
   "execution_count": 18,
   "metadata": {},
   "outputs": [
    {
     "data": {
      "application/vnd.jupyter.widget-view+json": {
       "model_id": "eba902a5740c4b46aba557aab742ecfe",
       "version_major": 2,
       "version_minor": 0
      },
      "text/html": [
       "\n",
       "            <div style=\"display: inline-block;\">\n",
       "                <div class=\"jupyter-widgets widget-label\" style=\"text-align: center;\">\n",
       "                    Figure\n",
       "                </div>\n",
       "                <img src='data:image/png;base64,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' width=640.0/>\n",
       "            </div>\n",
       "        "
      ],
      "text/plain": [
       "Canvas(toolbar=Toolbar(toolitems=[('Home', 'Reset original view', 'home', 'home'), ('Back', 'Back to previous …"
      ]
     },
     "metadata": {},
     "output_type": "display_data"
    }
   ],
   "source": [
    "plt.figure()\n",
    "plt.hist(var,bins=np.linspace(0,100,100))\n",
    "plt.show()"
   ]
  },
  {
   "cell_type": "code",
   "execution_count": 19,
   "metadata": {},
   "outputs": [],
   "source": [
    "#Solve Poisson Equation with FFT\n",
    "#phi(x) = 4 pi G IFT[FT[delta]/k^2]"
   ]
  },
  {
   "cell_type": "code",
   "execution_count": 14,
   "metadata": {},
   "outputs": [],
   "source": [
    "\n",
    "\"\"\"Create k^2 in box (nc x nc x nc)\"\"\"\n",
    "def k_box(nc,L):\n",
    "    kfac = 2.*np.pi/L\n",
    "    k= np.fft.fftfreq(nc,d=1./nc/kfac) #d controls spacing\n",
    "    a = np.transpose(np.indices((nc,nc,nc)).T, (2, 1, 0, 3)) #1 grid cell 3 coordinates\n",
    "    k2=(k[a]**2).sum(axis=-1) # each grid cell is sum of squares of coordinates\n",
    "    return k2.astype(np.float16)\n",
    "k2 = k_box(len(l_arr[0]),len(l_arr[0])*res)\n"
   ]
  },
  {
   "cell_type": "code",
   "execution_count": null,
   "metadata": {},
   "outputs": [
    {
     "name": "stderr",
     "output_type": "stream",
     "text": [
      "<magic-timeit>:2: RuntimeWarning: divide by zero encountered in true_divide\n",
      "<magic-timeit>:2: RuntimeWarning: invalid value encountered in true_divide\n"
     ]
    }
   ],
   "source": [
    "delta_k = np.fft.fftn(l_arr[0])\n",
    "delta_kk2 = delta_k /k2\n",
    "delta_kk2[0,0,0] =  0\n",
    "phi = np.fft.ifftn(delta_kk2)\n",
    "phi_r = phi.real "
   ]
  },
  {
   "cell_type": "code",
   "execution_count": null,
   "metadata": {},
   "outputs": [],
   "source": [
    "delta_k = np.fft.rfftn(l_arr[0])\n",
    "delta_kk2 = delta_k /k2[:,:,:513]\n",
    "delta_kk2[0,0,0] =  0\n",
    "phir = np.fft.irfftn(delta_kk2)\n"
   ]
  },
  {
   "cell_type": "code",
   "execution_count": null,
   "metadata": {},
   "outputs": [],
   "source": [
    "fig, ax = plt.subplots(figsize=(12,4),ncols=2)\n",
    "s = np.log(l_arr[0][:,:,0]+1)\n",
    "im0 = ax[0].imshow(s.T,vmin=-3,vmax=3,origin=\"lower\",aspect=\"equal\", interpolation=\"bilinear\", extent=[0,2048.,0,2048],cmap=\"rainbow\")\n",
    "fig.colorbar(im0,ax=ax[0])\n",
    "lim = 2048\n",
    "ax[0].set_xlim(0,lim)\n",
    "ax[0].set_ylim(0,lim)\n",
    "ax[0].set_title(r\"$\\delta$\")\n",
    "s = (phi_r[:,:,0])\n",
    "im1 = ax[1].imshow(s.T,origin=\"lower\",aspect=\"equal\", interpolation=\"bilinear\", extent=[0,2048.,0,2048],cmap=\"rainbow\")\n",
    "fig.colorbar(im1,ax=ax[1])\n",
    "ax[1].set_xlim(0,lim)\n",
    "ax[1].set_ylim(0,lim)\n",
    "ax[1].set_title(r\"$\\phi$\")\n",
    "\n"
   ]
  },
  {
   "cell_type": "code",
   "execution_count": null,
   "metadata": {},
   "outputs": [],
   "source": [
    "from scipy import ndimage"
   ]
  },
  {
   "cell_type": "code",
   "execution_count": null,
   "metadata": {},
   "outputs": [],
   "source": [
    "result = ndimage.laplace(phi_r)"
   ]
  },
  {
   "cell_type": "code",
   "execution_count": null,
   "metadata": {},
   "outputs": [],
   "source": [
    "result.shape"
   ]
  },
  {
   "cell_type": "code",
   "execution_count": null,
   "metadata": {},
   "outputs": [],
   "source": [
    "fig, ax = plt.subplots(figsize=(12,4),ncols=2)\n",
    "s = np.log(l_arr[0][:,:,0]+1)\n",
    "im0 = ax[0].imshow(s.T,vmin=-3,vmax=3,origin=\"lower\",aspect=\"equal\", interpolation=\"bilinear\", extent=[0,2048.,0,2048],cmap=\"rainbow\")\n",
    "fig.colorbar(im0,ax=ax[0])\n",
    "lim = 2048\n",
    "ax[0].set_xlim(0,lim)\n",
    "ax[0].set_ylim(0,lim)\n",
    "ax[0].set_title(r\"$\\delta$\")\n",
    "s = (result[:,:,0])\n",
    "im1 = ax[1].imshow(s.T,vmin=-3,vmax=3, origin=\"lower\",aspect=\"equal\", interpolation=\"bilinear\", extent=[0,2048.,0,2048],cmap=\"rainbow\")\n",
    "fig.colorbar(im1,ax=ax[1])\n",
    "ax[1].set_xlim(0,lim)\n",
    "ax[1].set_ylim(0,lim)\n",
    "ax[1].set_title(r\"$\\delta$\")\n"
   ]
  },
  {
   "cell_type": "code",
   "execution_count": 15,
   "metadata": {},
   "outputs": [],
   "source": [
    "#test FFTs\n",
    "a = np.random.uniform(0,10,(512,128,128))"
   ]
  },
  {
   "cell_type": "code",
   "execution_count": 16,
   "metadata": {},
   "outputs": [
    {
     "data": {
      "text/plain": [
       "(512, 128, 128)"
      ]
     },
     "execution_count": 16,
     "metadata": {},
     "output_type": "execute_result"
    }
   ],
   "source": [
    "a.shape"
   ]
  },
  {
   "cell_type": "code",
   "execution_count": 42,
   "metadata": {},
   "outputs": [],
   "source": [
    "a_fft = np.fft.fftn(a)\n",
    "a_fft[0,0,0] = 0\n",
    "a_fft_iffft = np.fft.ifft(a_fft)"
   ]
  },
  {
   "cell_type": "code",
   "execution_count": 23,
   "metadata": {},
   "outputs": [
    {
     "name": "stdout",
     "output_type": "stream",
     "text": [
      "898 ms ± 14 ms per loop (mean ± std. dev. of 7 runs, 1 loop each)\n"
     ]
    }
   ],
   "source": [
    "%%timeit\n",
    "a1_fft = np.fft.rfftn(a)\n",
    "a1_fft[0,0,0] = 0\n",
    "a1_fft_iffft = np.fft.irfftn(a1_fft)"
   ]
  },
  {
   "cell_type": "code",
   "execution_count": 19,
   "metadata": {},
   "outputs": [],
   "source": [
    "import multiprocessing\n",
    "nthread = multiprocessing.cpu_count()\n",
    "import pyfftw\n"
   ]
  },
  {
   "cell_type": "code",
   "execution_count": 21,
   "metadata": {},
   "outputs": [],
   "source": [
    "import os\n",
    "os.environ[\"MKL_NUM_THREADS\"] = \"10\" \n",
    "os.environ[\"NUMEXPR_NUM_THREADS\"] = \"10\" \n",
    "os.environ[\"OMP_NUM_THREADS\"] = \"10\" "
   ]
  },
  {
   "cell_type": "code",
   "execution_count": 36,
   "metadata": {},
   "outputs": [
    {
     "name": "stdout",
     "output_type": "stream",
     "text": [
      "1.11 s ± 78.6 ms per loop (mean ± std. dev. of 7 runs, 1 loop each)\n"
     ]
    }
   ],
   "source": [
    "%%timeit\n",
    "\n",
    "pyfftw.forget_wisdom()\n",
    "a2_fft = pyfftw.interfaces.numpy_fft.fftn(a, threads=10)\n",
    "a2_fft[0,0,0] = 0\n",
    "a2_fft_iffft = pyfftw.interfaces.numpy_fft.ifftn(a2_fft, threads=10)"
   ]
  },
  {
   "cell_type": "code",
   "execution_count": 46,
   "metadata": {},
   "outputs": [
    {
     "name": "stdout",
     "output_type": "stream",
     "text": [
      "851 ms ± 68.7 ms per loop (mean ± std. dev. of 7 runs, 1 loop each)\n"
     ]
    }
   ],
   "source": [
    "%%timeit\n",
    "fft = pyfftw.builders.fftn(a, overwrite_input=True, planner_effort='FFTW_ESTIMATE', threads=10)\n",
    "a3_fft = fft()\n",
    "a3_fft[0,0,0] = 0\n",
    "ifft = pyfftw.builders.ifftn(a3_fft , overwrite_input=True, planner_effort='FFTW_ESTIMATE', threads=10)\n",
    "a3_fft_ifft = ifft()"
   ]
  },
  {
   "cell_type": "code",
   "execution_count": 20,
   "metadata": {},
   "outputs": [
    {
     "name": "stdout",
     "output_type": "stream",
     "text": [
      "1.19 s ± 208 ms per loop (mean ± std. dev. of 7 runs, 1 loop each)\n"
     ]
    }
   ],
   "source": [
    "%%timeit\n",
    "in_array = pyfftw.empty_aligned(a.shape, dtype=np.float32)\n",
    "in_array[:] = a\n",
    "\n",
    "fft_object = pyfftw.builders.fftn(in_array,planner_effort='FFTW_ESTIMATE',direction='FFTW_FORWARD', threads=100)\n",
    "b = fft_object()\n",
    "b[0,0,0] = 0\n",
    "in_array1 = pyfftw.empty_aligned(b.shape, dtype=np.complex64)\n",
    "in_array1[:] = b\n"
   ]
  },
  {
   "cell_type": "code",
   "execution_count": 21,
   "metadata": {},
   "outputs": [
    {
     "ename": "NameError",
     "evalue": "name 'b' is not defined",
     "output_type": "error",
     "traceback": [
      "\u001b[0;31m---------------------------------------------------------------------------\u001b[0m",
      "\u001b[0;31mNameError\u001b[0m                                 Traceback (most recent call last)",
      "\u001b[0;32m<ipython-input-21-16bd0c9d3ba0>\u001b[0m in \u001b[0;36m<module>\u001b[0;34m\u001b[0m\n\u001b[0;32m----> 1\u001b[0;31m \u001b[0min_array1\u001b[0m \u001b[0;34m=\u001b[0m \u001b[0mpyfftw\u001b[0m\u001b[0;34m.\u001b[0m\u001b[0mempty_aligned\u001b[0m\u001b[0;34m(\u001b[0m\u001b[0mb\u001b[0m\u001b[0;34m.\u001b[0m\u001b[0mshape\u001b[0m\u001b[0;34m,\u001b[0m \u001b[0mdtype\u001b[0m\u001b[0;34m=\u001b[0m\u001b[0mnp\u001b[0m\u001b[0;34m.\u001b[0m\u001b[0mcomplex64\u001b[0m\u001b[0;34m)\u001b[0m\u001b[0;34m\u001b[0m\u001b[0;34m\u001b[0m\u001b[0m\n\u001b[0m\u001b[1;32m      2\u001b[0m \u001b[0min_array1\u001b[0m\u001b[0;34m[\u001b[0m\u001b[0;34m:\u001b[0m\u001b[0;34m]\u001b[0m \u001b[0;34m=\u001b[0m \u001b[0mb\u001b[0m\u001b[0;34m\u001b[0m\u001b[0;34m\u001b[0m\u001b[0m\n\u001b[1;32m      3\u001b[0m \u001b[0min_array1\u001b[0m\u001b[0;34m[\u001b[0m\u001b[0;36m0\u001b[0m\u001b[0;34m,\u001b[0m\u001b[0;36m0\u001b[0m\u001b[0;34m,\u001b[0m\u001b[0;36m0\u001b[0m\u001b[0;34m]\u001b[0m\u001b[0;34m=\u001b[0m\u001b[0;36m0\u001b[0m\u001b[0;34m\u001b[0m\u001b[0;34m\u001b[0m\u001b[0m\n",
      "\u001b[0;31mNameError\u001b[0m: name 'b' is not defined"
     ]
    }
   ],
   "source": [
    "in_array1 = pyfftw.empty_aligned(b.shape, dtype=np.complex64)\n",
    "in_array1[:] = b\n",
    "in_array1[0,0,0]=0"
   ]
  },
  {
   "cell_type": "code",
   "execution_count": 22,
   "metadata": {},
   "outputs": [
    {
     "ename": "NameError",
     "evalue": "name 'in_array1' is not defined",
     "output_type": "error",
     "traceback": [
      "\u001b[0;31m---------------------------------------------------------------------------\u001b[0m",
      "\u001b[0;31mNameError\u001b[0m                                 Traceback (most recent call last)",
      "\u001b[0;32m<ipython-input-22-7fc33830de35>\u001b[0m in \u001b[0;36m<module>\u001b[0;34m\u001b[0m\n\u001b[0;32m----> 1\u001b[0;31m \u001b[0mfft_object\u001b[0m \u001b[0;34m=\u001b[0m \u001b[0mpyfftw\u001b[0m\u001b[0;34m.\u001b[0m\u001b[0mbuilders\u001b[0m\u001b[0;34m.\u001b[0m\u001b[0mifftn\u001b[0m\u001b[0;34m(\u001b[0m\u001b[0min_array1\u001b[0m\u001b[0;34m,\u001b[0m\u001b[0mplanner_effort\u001b[0m\u001b[0;34m=\u001b[0m\u001b[0;34m'FFTW_ESTIMATE'\u001b[0m\u001b[0;34m,\u001b[0m  \u001b[0mthreads\u001b[0m\u001b[0;34m=\u001b[0m\u001b[0;36m100\u001b[0m\u001b[0;34m)\u001b[0m\u001b[0;34m\u001b[0m\u001b[0;34m\u001b[0m\u001b[0m\n\u001b[0m\u001b[1;32m      2\u001b[0m \u001b[0mb1\u001b[0m \u001b[0;34m=\u001b[0m \u001b[0mfft_object\u001b[0m\u001b[0;34m(\u001b[0m\u001b[0;34m)\u001b[0m\u001b[0;34m\u001b[0m\u001b[0;34m\u001b[0m\u001b[0m\n",
      "\u001b[0;31mNameError\u001b[0m: name 'in_array1' is not defined"
     ]
    }
   ],
   "source": [
    "fft_object = pyfftw.builders.ifftn(in_array1,planner_effort='FFTW_ESTIMATE',  threads=100)\n",
    "b1 = fft_object()"
   ]
  },
  {
   "cell_type": "code",
   "execution_count": 136,
   "metadata": {},
   "outputs": [
    {
     "ename": "ValueError",
     "evalue": "Invalid shapes: The input array and output array are invalid complementary shapes for their dtypes.",
     "output_type": "error",
     "traceback": [
      "\u001b[0;31m---------------------------------------------------------------------------\u001b[0m",
      "\u001b[0;31mValueError\u001b[0m                                Traceback (most recent call last)",
      "\u001b[0;32m<ipython-input-136-26a723b0bec5>\u001b[0m in \u001b[0;36m<module>\u001b[0;34m\u001b[0m\n\u001b[0;32m----> 1\u001b[0;31m \u001b[0mget_ipython\u001b[0m\u001b[0;34m(\u001b[0m\u001b[0;34m)\u001b[0m\u001b[0;34m.\u001b[0m\u001b[0mrun_cell_magic\u001b[0m\u001b[0;34m(\u001b[0m\u001b[0;34m'timeit'\u001b[0m\u001b[0;34m,\u001b[0m \u001b[0;34m''\u001b[0m\u001b[0;34m,\u001b[0m \u001b[0;34m'in_array = pyfftw.empty_aligned(a.shape, dtype=np.float64)\\nin_array[:] = a\\n\\nout_array = pyfftw.empty_aligned((512,128,128), dtype=np.complex128)\\nfftw_object = pyfftw.FFTW(in_array, out_array,  direction=\"FFTW_FORWARD\", axes=(0,1,2),  threads=1)\\n'\u001b[0m\u001b[0;34m)\u001b[0m\u001b[0;34m\u001b[0m\u001b[0;34m\u001b[0m\u001b[0m\n\u001b[0m",
      "\u001b[0;32m~/anaconda3/lib/python3.8/site-packages/IPython/core/interactiveshell.py\u001b[0m in \u001b[0;36mrun_cell_magic\u001b[0;34m(self, magic_name, line, cell)\u001b[0m\n\u001b[1;32m   2397\u001b[0m             \u001b[0;32mwith\u001b[0m \u001b[0mself\u001b[0m\u001b[0;34m.\u001b[0m\u001b[0mbuiltin_trap\u001b[0m\u001b[0;34m:\u001b[0m\u001b[0;34m\u001b[0m\u001b[0;34m\u001b[0m\u001b[0m\n\u001b[1;32m   2398\u001b[0m                 \u001b[0margs\u001b[0m \u001b[0;34m=\u001b[0m \u001b[0;34m(\u001b[0m\u001b[0mmagic_arg_s\u001b[0m\u001b[0;34m,\u001b[0m \u001b[0mcell\u001b[0m\u001b[0;34m)\u001b[0m\u001b[0;34m\u001b[0m\u001b[0;34m\u001b[0m\u001b[0m\n\u001b[0;32m-> 2399\u001b[0;31m                 \u001b[0mresult\u001b[0m \u001b[0;34m=\u001b[0m \u001b[0mfn\u001b[0m\u001b[0;34m(\u001b[0m\u001b[0;34m*\u001b[0m\u001b[0margs\u001b[0m\u001b[0;34m,\u001b[0m \u001b[0;34m**\u001b[0m\u001b[0mkwargs\u001b[0m\u001b[0;34m)\u001b[0m\u001b[0;34m\u001b[0m\u001b[0;34m\u001b[0m\u001b[0m\n\u001b[0m\u001b[1;32m   2400\u001b[0m             \u001b[0;32mreturn\u001b[0m \u001b[0mresult\u001b[0m\u001b[0;34m\u001b[0m\u001b[0;34m\u001b[0m\u001b[0m\n\u001b[1;32m   2401\u001b[0m \u001b[0;34m\u001b[0m\u001b[0m\n",
      "\u001b[0;32m<decorator-gen-53>\u001b[0m in \u001b[0;36mtimeit\u001b[0;34m(self, line, cell, local_ns)\u001b[0m\n",
      "\u001b[0;32m~/anaconda3/lib/python3.8/site-packages/IPython/core/magic.py\u001b[0m in \u001b[0;36m<lambda>\u001b[0;34m(f, *a, **k)\u001b[0m\n\u001b[1;32m    185\u001b[0m     \u001b[0;31m# but it's overkill for just that one bit of state.\u001b[0m\u001b[0;34m\u001b[0m\u001b[0;34m\u001b[0m\u001b[0;34m\u001b[0m\u001b[0m\n\u001b[1;32m    186\u001b[0m     \u001b[0;32mdef\u001b[0m \u001b[0mmagic_deco\u001b[0m\u001b[0;34m(\u001b[0m\u001b[0marg\u001b[0m\u001b[0;34m)\u001b[0m\u001b[0;34m:\u001b[0m\u001b[0;34m\u001b[0m\u001b[0;34m\u001b[0m\u001b[0m\n\u001b[0;32m--> 187\u001b[0;31m         \u001b[0mcall\u001b[0m \u001b[0;34m=\u001b[0m \u001b[0;32mlambda\u001b[0m \u001b[0mf\u001b[0m\u001b[0;34m,\u001b[0m \u001b[0;34m*\u001b[0m\u001b[0ma\u001b[0m\u001b[0;34m,\u001b[0m \u001b[0;34m**\u001b[0m\u001b[0mk\u001b[0m\u001b[0;34m:\u001b[0m \u001b[0mf\u001b[0m\u001b[0;34m(\u001b[0m\u001b[0;34m*\u001b[0m\u001b[0ma\u001b[0m\u001b[0;34m,\u001b[0m \u001b[0;34m**\u001b[0m\u001b[0mk\u001b[0m\u001b[0;34m)\u001b[0m\u001b[0;34m\u001b[0m\u001b[0;34m\u001b[0m\u001b[0m\n\u001b[0m\u001b[1;32m    188\u001b[0m \u001b[0;34m\u001b[0m\u001b[0m\n\u001b[1;32m    189\u001b[0m         \u001b[0;32mif\u001b[0m \u001b[0mcallable\u001b[0m\u001b[0;34m(\u001b[0m\u001b[0marg\u001b[0m\u001b[0;34m)\u001b[0m\u001b[0;34m:\u001b[0m\u001b[0;34m\u001b[0m\u001b[0;34m\u001b[0m\u001b[0m\n",
      "\u001b[0;32m~/anaconda3/lib/python3.8/site-packages/IPython/core/magics/execution.py\u001b[0m in \u001b[0;36mtimeit\u001b[0;34m(self, line, cell, local_ns)\u001b[0m\n\u001b[1;32m   1167\u001b[0m             \u001b[0;32mfor\u001b[0m \u001b[0mindex\u001b[0m \u001b[0;32min\u001b[0m \u001b[0mrange\u001b[0m\u001b[0;34m(\u001b[0m\u001b[0;36m0\u001b[0m\u001b[0;34m,\u001b[0m \u001b[0;36m10\u001b[0m\u001b[0;34m)\u001b[0m\u001b[0;34m:\u001b[0m\u001b[0;34m\u001b[0m\u001b[0;34m\u001b[0m\u001b[0m\n\u001b[1;32m   1168\u001b[0m                 \u001b[0mnumber\u001b[0m \u001b[0;34m=\u001b[0m \u001b[0;36m10\u001b[0m \u001b[0;34m**\u001b[0m \u001b[0mindex\u001b[0m\u001b[0;34m\u001b[0m\u001b[0;34m\u001b[0m\u001b[0m\n\u001b[0;32m-> 1169\u001b[0;31m                 \u001b[0mtime_number\u001b[0m \u001b[0;34m=\u001b[0m \u001b[0mtimer\u001b[0m\u001b[0;34m.\u001b[0m\u001b[0mtimeit\u001b[0m\u001b[0;34m(\u001b[0m\u001b[0mnumber\u001b[0m\u001b[0;34m)\u001b[0m\u001b[0;34m\u001b[0m\u001b[0;34m\u001b[0m\u001b[0m\n\u001b[0m\u001b[1;32m   1170\u001b[0m                 \u001b[0;32mif\u001b[0m \u001b[0mtime_number\u001b[0m \u001b[0;34m>=\u001b[0m \u001b[0;36m0.2\u001b[0m\u001b[0;34m:\u001b[0m\u001b[0;34m\u001b[0m\u001b[0;34m\u001b[0m\u001b[0m\n\u001b[1;32m   1171\u001b[0m                     \u001b[0;32mbreak\u001b[0m\u001b[0;34m\u001b[0m\u001b[0;34m\u001b[0m\u001b[0m\n",
      "\u001b[0;32m~/anaconda3/lib/python3.8/site-packages/IPython/core/magics/execution.py\u001b[0m in \u001b[0;36mtimeit\u001b[0;34m(self, number)\u001b[0m\n\u001b[1;32m    167\u001b[0m         \u001b[0mgc\u001b[0m\u001b[0;34m.\u001b[0m\u001b[0mdisable\u001b[0m\u001b[0;34m(\u001b[0m\u001b[0;34m)\u001b[0m\u001b[0;34m\u001b[0m\u001b[0;34m\u001b[0m\u001b[0m\n\u001b[1;32m    168\u001b[0m         \u001b[0;32mtry\u001b[0m\u001b[0;34m:\u001b[0m\u001b[0;34m\u001b[0m\u001b[0;34m\u001b[0m\u001b[0m\n\u001b[0;32m--> 169\u001b[0;31m             \u001b[0mtiming\u001b[0m \u001b[0;34m=\u001b[0m \u001b[0mself\u001b[0m\u001b[0;34m.\u001b[0m\u001b[0minner\u001b[0m\u001b[0;34m(\u001b[0m\u001b[0mit\u001b[0m\u001b[0;34m,\u001b[0m \u001b[0mself\u001b[0m\u001b[0;34m.\u001b[0m\u001b[0mtimer\u001b[0m\u001b[0;34m)\u001b[0m\u001b[0;34m\u001b[0m\u001b[0;34m\u001b[0m\u001b[0m\n\u001b[0m\u001b[1;32m    170\u001b[0m         \u001b[0;32mfinally\u001b[0m\u001b[0;34m:\u001b[0m\u001b[0;34m\u001b[0m\u001b[0;34m\u001b[0m\u001b[0m\n\u001b[1;32m    171\u001b[0m             \u001b[0;32mif\u001b[0m \u001b[0mgcold\u001b[0m\u001b[0;34m:\u001b[0m\u001b[0;34m\u001b[0m\u001b[0;34m\u001b[0m\u001b[0m\n",
      "\u001b[0;32m<magic-timeit>\u001b[0m in \u001b[0;36minner\u001b[0;34m(_it, _timer)\u001b[0m\n",
      "\u001b[0;32mpyfftw/pyfftw.pyx\u001b[0m in \u001b[0;36mpyfftw.pyfftw.FFTW.__cinit__\u001b[0;34m()\u001b[0m\n",
      "\u001b[0;31mValueError\u001b[0m: Invalid shapes: The input array and output array are invalid complementary shapes for their dtypes."
     ]
    }
   ],
   "source": [
    "%%timeit\n",
    "in_array = pyfftw.empty_aligned(a.shape, dtype=np.float32)\n",
    "in_array[:] = a\n",
    "\n",
    "out_array = pyfftw.empty_aligned((512,128,128), dtype=np.complex128)\n",
    "fftw_object = pyfftw.FFTW(in_array, out_array,  direction=\"FFTW_FORWARD\", axes=(0,1,2),  threads=1)"
   ]
  },
  {
   "cell_type": "code",
   "execution_count": 69,
   "metadata": {},
   "outputs": [],
   "source": []
  },
  {
   "cell_type": "code",
   "execution_count": null,
   "metadata": {},
   "outputs": [],
   "source": [
    "out_array = pyfftw.empty_aligned((100,256, 129), dtype='complex128')\n",
    "fft_object_b = pyfftw.FFTW(in, bf,axes=(1,2),flags=('FFTW_MEASURE',), direction='FFTW_FORWARD',threads=multiprocessing.cpu_count())\n",
    "\n"
   ]
  },
  {
   "cell_type": "code",
   "execution_count": 74,
   "metadata": {},
   "outputs": [
    {
     "data": {
      "text/plain": [
       "(512, 128, 128)"
      ]
     },
     "execution_count": 74,
     "metadata": {},
     "output_type": "execute_result"
    }
   ],
   "source": [
    "a.shape"
   ]
  },
  {
   "cell_type": "code",
   "execution_count": null,
   "metadata": {},
   "outputs": [],
   "source": []
  }
 ],
 "metadata": {
  "interpreter": {
   "hash": "916dbcbb3f70747c44a77c7bcd40155683ae19c65e1c03b4aa3499c5328201f1"
  },
  "kernelspec": {
   "display_name": "Python 3",
   "language": "python",
   "name": "python3"
  },
  "language_info": {
   "codemirror_mode": {
    "name": "ipython",
    "version": 3
   },
   "file_extension": ".py",
   "mimetype": "text/x-python",
   "name": "python",
   "nbconvert_exporter": "python",
   "pygments_lexer": "ipython3",
   "version": "3.8.8"
  }
 },
 "nbformat": 4,
 "nbformat_minor": 4
}
