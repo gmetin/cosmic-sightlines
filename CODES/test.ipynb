{
 "cells": [
  {
   "cell_type": "code",
   "execution_count": 2,
   "metadata": {},
   "outputs": [],
   "source": [
    "import numpy as np\n",
    "from sight_line_constructor import Sightline\n",
    "import read_cubes\n",
    "from scipy import ndimage\n",
    "import matplotlib.pyplot as plt\n",
    "from astropy.io import ascii\n",
    "\n"
   ]
  },
  {
   "cell_type": "code",
   "execution_count": 60,
   "metadata": {},
   "outputs": [],
   "source": [
    "path = \"/var/lib/libvirt/images/nbody/baorsd/run101/density_field/\"\n",
    "\n",
    "cube = read_cubes.read(path+\"S020_CIC1024_conf.bin\")"
   ]
  },
  {
   "cell_type": "code",
   "execution_count": 4,
   "metadata": {},
   "outputs": [],
   "source": [
    "res = 2\n",
    "start_point = np.array([0,0,0]) #Mpc/h\n",
    "end_point = np.array([300,300,500]) #Mpc/h\n"
   ]
  },
  {
   "cell_type": "code",
   "execution_count": 5,
   "metadata": {},
   "outputs": [],
   "source": [
    "s1 = Sightline(start_point,end_point,num=3000)"
   ]
  },
  {
   "cell_type": "code",
   "execution_count": 6,
   "metadata": {},
   "outputs": [],
   "source": [
    "los_dens = s1.calc_los(res,cube)"
   ]
  },
  {
   "cell_type": "code",
   "execution_count": 7,
   "metadata": {},
   "outputs": [],
   "source": [
    "end_points = np.random.uniform(-2,2,(5,3))"
   ]
  },
  {
   "cell_type": "code",
   "execution_count": 10,
   "metadata": {},
   "outputs": [],
   "source": [
    "from astropy.cosmology import FlatLambdaCDM\n",
    "from astropy import units as u"
   ]
  },
  {
   "cell_type": "code",
   "execution_count": 93,
   "metadata": {},
   "outputs": [],
   "source": [
    "from scipy import interpolate\n",
    "\n",
    "cosmo = FlatLambdaCDM(H0=100, Om0=0.315)\n",
    "\n",
    "reds = np.linspace(0.,10.,10000)\n",
    "dists = cosmo.comoving_distance(reds)\n",
    "\n",
    "z_dist = interpolate.interp1d(reds, dists)\n",
    "\n"
   ]
  },
  {
   "cell_type": "code",
   "execution_count": 31,
   "metadata": {},
   "outputs": [],
   "source": [
    "files = ascii.read('/home/mata/cosmic-sightlines/simlist.txt',names=[\"filename\", 'redshift'])"
   ]
  },
  {
   "cell_type": "code",
   "execution_count": 100,
   "metadata": {},
   "outputs": [
    {
     "data": {
      "text/plain": [
       "array([2990.59785349, 2821.67991357, 2656.19952512, 2493.88159244,\n",
       "       2334.43809439, 2177.61231632, 2023.18108248, 1870.91593272,\n",
       "       1720.60666364, 1572.0561105 , 1425.06900518, 1279.45875188,\n",
       "       1135.04359213,  991.63674372,  849.05714337,  707.12042403,\n",
       "        565.62997617,  424.39312659,  283.19353311,  141.80987524,\n",
       "          0.        ])"
      ]
     },
     "execution_count": 100,
     "metadata": {},
     "output_type": "execute_result"
    }
   ],
   "source": [
    "z_dist(files['redshift'].data)"
   ]
  },
  {
   "cell_type": "code",
   "execution_count": 77,
   "metadata": {},
   "outputs": [],
   "source": [
    "#Function to read in particular file for distance\n",
    "\n",
    "#first read all files:\n",
    "n_files = len(files)\n",
    "nc = 1024\n",
    "#make an array of all files with corresponding redshift\n",
    "\n",
    "l_arr = []\n",
    "for i in range(len(files)):\n",
    "    tmp = read_cubes.read(path+str(files[i]['filename']))\n",
    "    l_arr.append(tmp)\n",
    "l_arr = np.asarray(l_arr)\n",
    "\n",
    "\n"
   ]
  }
 ],
 "metadata": {
  "interpreter": {
   "hash": "916dbcbb3f70747c44a77c7bcd40155683ae19c65e1c03b4aa3499c5328201f1"
  },
  "kernelspec": {
   "display_name": "Python 3.6.8 64-bit",
   "language": "python",
   "name": "python3"
  },
  "language_info": {
   "codemirror_mode": {
    "name": "ipython",
    "version": 3
   },
   "file_extension": ".py",
   "mimetype": "text/x-python",
   "name": "python",
   "nbconvert_exporter": "python",
   "pygments_lexer": "ipython3",
   "version": "3.8.8"
  },
  "orig_nbformat": 4
 },
 "nbformat": 4,
 "nbformat_minor": 2
}
