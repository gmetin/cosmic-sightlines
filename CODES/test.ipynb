{
 "cells": [
  {
   "cell_type": "code",
   "execution_count": 1,
   "metadata": {},
   "outputs": [],
   "source": [
    "import numpy as np\n",
    "from sight_line_constructor import Sightline\n",
    "import read_cubes\n",
    "from scipy import ndimage\n",
    "import matplotlib.pyplot as plt\n"
   ]
  },
  {
   "cell_type": "code",
   "execution_count": 2,
   "metadata": {},
   "outputs": [],
   "source": [
    "path = \"/var/lib/libvirt/images/nbody/baorsd/run101/density_field/S020_CIC1024_conf.bin\"\n",
    "\n",
    "cube = read_cubes.read(path)"
   ]
  },
  {
   "cell_type": "code",
   "execution_count": 3,
   "metadata": {},
   "outputs": [],
   "source": [
    "res = 2\n",
    "start_point = np.array([0,0,0]) #Mpc/h\n",
    "end_point = np.array([300,300,500]) #Mpc/h\n"
   ]
  },
  {
   "cell_type": "code",
   "execution_count": 4,
   "metadata": {},
   "outputs": [],
   "source": [
    "s1 = Sightline(start_point,end_point,num=3000)"
   ]
  },
  {
   "cell_type": "code",
   "execution_count": 5,
   "metadata": {},
   "outputs": [],
   "source": [
    "los_dens = s1.calc_los(res,cube)"
   ]
  },
  {
   "cell_type": "code",
   "execution_count": 6,
   "metadata": {},
   "outputs": [],
   "source": [
    "end_points = np.random.uniform(-2,2,(5,3))"
   ]
  },
  {
   "cell_type": "code",
   "execution_count": 17,
   "metadata": {},
   "outputs": [],
   "source": [
    "with open('/home/mata/cosmic-sightlines/simlist.txt', 'r') as file:\n",
    "    data = file.read().replace('\\n', '')"
   ]
  },
  {
   "cell_type": "code",
   "execution_count": 18,
   "metadata": {},
   "outputs": [
    {
     "data": {
      "text/plain": [
       "'#filename   #redshiftS000_CIC1024_conf.bin 1.47619S001_CIC1024_conf.bin 1.34888S002_CIC1024_conf.bin 1.2322S003_CIC1024_conf.bin 1.12473S004_CIC1024_conf.bin 1.02526S005_CIC1024_conf.bin 0.932778S006_CIC1024_conf.bin 0.846434S007_CIC1024_conf.bin 0.765491S008_CIC1024_conf.bin 0.689318S009_CIC1024_conf.bin 0.61737S010_CIC1024_conf.bin 0.549169S011_CIC1024_conf.bin 0.484297S012_CIC1024_conf.bin 0.422385S013_CIC1024_conf.bin 0.363102S014_CIC1024_conf.bin 0.306154S015_CIC1024_conf.bin 0.251275S016_CIC1024_conf.bin 0.19822S017_CIC1024_conf.bin 0.146768S018_CIC1024_conf.bin 0.0967089S019_CIC1024_conf.bin 0.0478483S020_CIC1024_conf.bin 0.'"
      ]
     },
     "execution_count": 18,
     "metadata": {},
     "output_type": "execute_result"
    }
   ],
   "source": [
    "data"
   ]
  },
  {
   "cell_type": "code",
   "execution_count": null,
   "metadata": {},
   "outputs": [],
   "source": []
  }
 ],
 "metadata": {
  "interpreter": {
   "hash": "916dbcbb3f70747c44a77c7bcd40155683ae19c65e1c03b4aa3499c5328201f1"
  },
  "kernelspec": {
   "display_name": "Python 3.6.8 64-bit",
   "language": "python",
   "name": "python3"
  },
  "language_info": {
   "codemirror_mode": {
    "name": "ipython",
    "version": 3
   },
   "file_extension": ".py",
   "mimetype": "text/x-python",
   "name": "python",
   "nbconvert_exporter": "python",
   "pygments_lexer": "ipython3",
   "version": "3.8.8"
  },
  "orig_nbformat": 4
 },
 "nbformat": 4,
 "nbformat_minor": 2
}
